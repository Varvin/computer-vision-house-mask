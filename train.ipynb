{
 "cells": [
  {
   "cell_type": "code",
   "execution_count": null,
   "metadata": {},
   "outputs": [],
   "source": [
    "from model.house_mask import HouseMask\n",
    "from model.config import Config\n",
    "from model.data_provider import DataProvider\n",
    "from utils.anotations_parser import parse_anotation\n",
    "from utils.plot_history import plot_history\n",
    "\n",
    "from numpy.random import seed\n",
    "from tensorflow.random import set_seed\n",
    "\n",
    "seed_value = 1234578790\n",
    "seed(seed_value)\n",
    "set_seed(seed_value)\n",
    "\n",
    "config = Config()"
   ]
  },
  {
   "cell_type": "code",
   "execution_count": null,
   "metadata": {},
   "outputs": [],
   "source": [
    "annotations = parse_anotation('data/train/annotations.json')\n",
    "train_annotations = annotations[0 : 447]\n",
    "test_annotations = annotations[447:]\n",
    "\n",
    "# train_annotations = parse_anotation('data/train/annotations.json')\n",
    "train_data_provider = DataProvider(config, train_annotations)\n",
    "\n",
    "# test_annotations = parse_anotation('data/test/annotations.json')\n",
    "test_data_provider = DataProvider(config, test_annotations)"
   ]
  },
  {
   "cell_type": "code",
   "execution_count": null,
   "metadata": {},
   "outputs": [],
   "source": [
    "# from model.unet_model import UNetModel\n",
    "# model_provider = UNetModel()\n",
    "from model.unet_model2 import UNetModel2\n",
    "model_provider = UNetModel2()"
   ]
  },
  {
   "cell_type": "code",
   "execution_count": null,
   "metadata": {},
   "outputs": [],
   "source": [
    "model = HouseMask(config, train_data_provider, test_data_provider, model_provider)"
   ]
  },
  {
   "cell_type": "code",
   "execution_count": null,
   "metadata": {},
   "outputs": [],
   "source": [
    "model.train()"
   ]
  },
  {
   "cell_type": "code",
   "execution_count": null,
   "metadata": {},
   "outputs": [],
   "source": [
    "from matplotlib import pyplot as plt\n",
    "plt.rcParams['figure.figsize'] = [15, 10]"
   ]
  },
  {
   "cell_type": "code",
   "execution_count": null,
   "metadata": {},
   "outputs": [],
   "source": [
    "plot_history(model.model.history)"
   ]
  },
  {
   "cell_type": "code",
   "execution_count": null,
   "metadata": {},
   "outputs": [],
   "source": [
    "model.load_weights('data/un2_511_ag_150.h5')"
   ]
  },
  {
   "cell_type": "code",
   "execution_count": null,
   "metadata": {},
   "outputs": [],
   "source": [
    "x,y = test_data_provider.__getitem__(0)\n",
    "pred = model.predict(test_data_provider)"
   ]
  },
  {
   "cell_type": "code",
   "execution_count": null,
   "metadata": {},
   "outputs": [],
   "source": [
    "import numpy as np\n",
    "\n",
    "id = np.random.randint(len(x))\n",
    "img = np.array([ x[id] ])\n",
    "print(img.shape)\n",
    "prediction = model.model.predict(img)\n",
    "mask = model.prediction_to_mask(prediction[0])\n",
    "plt.subplot(131), plt.imshow(x[id]), plt.title('original')\n",
    "plt.subplot(132), plt.imshow(y[id],cmap='gray'), plt.title('user_mark')\n",
    "plt.subplot(133), plt.imshow(mask, cmap='gray'), plt.title('prediction result')\n"
   ]
  },
  {
   "cell_type": "code",
   "execution_count": null,
   "metadata": {},
   "outputs": [],
   "source": [
    "model.model.save('data/un2_511_ag_150.h5')"
   ]
  },
  {
   "cell_type": "code",
   "execution_count": null,
   "metadata": {},
   "outputs": [],
   "source": [
    "model.model.summary()"
   ]
  },
  {
   "cell_type": "code",
   "execution_count": null,
   "metadata": {},
   "outputs": [],
   "source": [
    "from tensorflow.keras.utils import plot_model\n",
    "\n",
    "plot_model(model.model, show_shapes=True)"
   ]
  }
 ],
 "metadata": {
  "kernelspec": {
   "display_name": "Python 3.9.14 ('tf-house-mask')",
   "language": "python",
   "name": "python3"
  },
  "language_info": {
   "codemirror_mode": {
    "name": "ipython",
    "version": 3
   },
   "file_extension": ".py",
   "mimetype": "text/x-python",
   "name": "python",
   "nbconvert_exporter": "python",
   "pygments_lexer": "ipython3",
   "version": "3.9.14"
  },
  "orig_nbformat": 4,
  "vscode": {
   "interpreter": {
    "hash": "6ab619f9820b56b7a14e12a3bb3a4751e74e466f4bb5241b6c59f51388f93740"
   }
  }
 },
 "nbformat": 4,
 "nbformat_minor": 2
}
