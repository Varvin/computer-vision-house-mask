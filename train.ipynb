{
 "cells": [
  {
   "cell_type": "code",
   "execution_count": null,
   "metadata": {},
   "outputs": [],
   "source": [
    "from model.house_mask import HouseMask\n",
    "from model.config import Config\n",
    "from model.data_provider import DataProvider\n",
    "from utils.anotations_parser import parse_anotation\n",
    "from utils.plot_history import plot_history\n",
    "from utils.showlist import show_image_list\n",
    "from matplotlib import pyplot as plt\n",
    "plt.rcParams['figure.figsize'] = [15, 10]\n",
    "\n",
    "import numpy as np\n",
    "from numpy.random import seed\n",
    "from tensorflow.random import set_seed\n",
    "from tensorflow.keras.utils import plot_model\n",
    "\n",
    "seed_value = 1234578790\n",
    "seed(seed_value)\n",
    "set_seed(seed_value)\n",
    "\n",
    "config = Config()"
   ]
  },
  {
   "cell_type": "code",
   "execution_count": null,
   "metadata": {},
   "outputs": [],
   "source": [
    "annotations = parse_anotation('data/train/annotations.json')\n",
    "train_annotations = annotations#[0 : 550]\n",
    "#test_annotations = annotations[550:]\n",
    "\n",
    "# train_annotations = parse_anotation('data/train/annotations.json')\n",
    "train_data_provider = DataProvider(config, train_annotations)\n",
    "\n",
    "# test_annotations = parse_anotation('data/test/annotations.json')\n",
    "test_data_provider = None # DataProvider(config, test_annotations)"
   ]
  },
  {
   "cell_type": "code",
   "execution_count": null,
   "metadata": {},
   "outputs": [],
   "source": [
    "from model.unet_model import UNetModel, UNetModel2\n",
    "# model_provider = UNetModel()\n",
    "model_provider = UNetModel2()"
   ]
  },
  {
   "cell_type": "code",
   "execution_count": null,
   "metadata": {},
   "outputs": [],
   "source": [
    "model = HouseMask(config, train_data_provider, test_data_provider, model_provider)"
   ]
  },
  {
   "cell_type": "code",
   "execution_count": null,
   "metadata": {},
   "outputs": [],
   "source": [
    "model.model.summary()"
   ]
  },
  {
   "cell_type": "code",
   "execution_count": null,
   "metadata": {},
   "outputs": [],
   "source": [
    "plot_model(model.model, show_shapes=True)"
   ]
  },
  {
   "cell_type": "code",
   "execution_count": null,
   "metadata": {},
   "outputs": [],
   "source": [
    "model.train()"
   ]
  },
  {
   "cell_type": "code",
   "execution_count": null,
   "metadata": {},
   "outputs": [],
   "source": [
    "plot_history(model.model.history)"
   ]
  },
  {
   "cell_type": "code",
   "execution_count": null,
   "metadata": {},
   "outputs": [],
   "source": [
    "x,y = train_data_provider.__getitem__(0)\n",
    "# x,y = test_data_provider.__getitem__(0)\n",
    "predictions = model.predict(x)\n",
    "predictions = np.array([model.prediction_to_mask(prediction) for prediction in predictions])"
   ]
  },
  {
   "cell_type": "code",
   "execution_count": null,
   "metadata": {},
   "outputs": [],
   "source": [
    "image_count = len(x)\n",
    "imges_lable = ['Original'] * image_count\n",
    "anotation_lable = ['Anotation'] * image_count\n",
    "prediction_lable = ['Prediction'] * image_count\n",
    "\n",
    "titles = [None] * (image_count * 3)\n",
    "titles[::3] = imges_lable\n",
    "titles[1::3] = anotation_lable\n",
    "titles[2::3] = prediction_lable"
   ]
  },
  {
   "cell_type": "code",
   "execution_count": null,
   "metadata": {},
   "outputs": [],
   "source": [
    "detection_resutls = [None] * (image_count * 3)\n",
    "detection_resutls[::3] = x\n",
    "detection_resutls[1::3] = y\n",
    "detection_resutls[2::3] = predictions\n",
    "\n",
    "show_image_list(detection_resutls, titles, grid=False, num_cols=3, figsize=(20,150), title_fontsize=20)"
   ]
  },
  {
   "cell_type": "code",
   "execution_count": null,
   "metadata": {},
   "outputs": [],
   "source": [
    "import glob\n",
    "import cv2\n",
    "\n",
    "def load_images():\n",
    "    filenames = glob.glob(\"data/test/images/*\")\n",
    "    images = np.array([cv2.resize(cv2.cvtColor(cv2.imread(img_path), cv2.COLOR_BGR2RGB), config.IMAGE_SIZE) for img_path in filenames])\n",
    "    return images/255"
   ]
  },
  {
   "cell_type": "code",
   "execution_count": null,
   "metadata": {},
   "outputs": [],
   "source": [
    "images = load_images()\n",
    "predictions = model.predict(images)\n",
    "predictions = np.array([model.prediction_to_mask(prediction) for prediction in predictions])"
   ]
  },
  {
   "cell_type": "code",
   "execution_count": null,
   "metadata": {},
   "outputs": [],
   "source": [
    "image_count = len(images)\n",
    "imges_lable = ['Original'] * image_count\n",
    "prediction_lable = ['Prediction'] * image_count\n",
    "\n",
    "titles = [None] * (image_count * 2)\n",
    "titles[::2] = imges_lable\n",
    "titles[1::2] = prediction_lable\n",
    "\n",
    "detection_resutls = [None] * (image_count * 2)\n",
    "detection_resutls[::2] = images\n",
    "detection_resutls[1::2] = predictions\n",
    "\n",
    "show_image_list(detection_resutls, titles, grid=False, num_cols=2, figsize=(20,50), title_fontsize=20)"
   ]
  },
  {
   "cell_type": "code",
   "execution_count": null,
   "metadata": {},
   "outputs": [],
   "source": [
    "model.model.save('info/unet2_150_nval.h5')"
   ]
  }
 ],
 "metadata": {
  "kernelspec": {
   "display_name": "Python 3.9.14 ('tf-house-mask')",
   "language": "python",
   "name": "python3"
  },
  "language_info": {
   "codemirror_mode": {
    "name": "ipython",
    "version": 3
   },
   "file_extension": ".py",
   "mimetype": "text/x-python",
   "name": "python",
   "nbconvert_exporter": "python",
   "pygments_lexer": "ipython3",
   "version": "3.9.14"
  },
  "orig_nbformat": 4,
  "vscode": {
   "interpreter": {
    "hash": "6ab619f9820b56b7a14e12a3bb3a4751e74e466f4bb5241b6c59f51388f93740"
   }
  }
 },
 "nbformat": 4,
 "nbformat_minor": 2
}
