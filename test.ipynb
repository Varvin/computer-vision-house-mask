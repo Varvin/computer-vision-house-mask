{
 "cells": [
  {
   "cell_type": "code",
   "execution_count": 1,
   "metadata": {},
   "outputs": [],
   "source": [
    "import numpy as np\n",
    "import cv2\n",
    "import random\n",
    "import tensorflow as tf\n",
    "from tensorflow import keras\n",
    "from tensorflow.keras.utils import load_img\n",
    "from matplotlib import pyplot as plt\n",
    "\n"
   ]
  },
  {
   "cell_type": "code",
   "execution_count": null,
   "metadata": {},
   "outputs": [],
   "source": [
    "img = load_img('data/train/annotations/task-1-annotation-1-by-1-tag-House-0.png',target_size=(332,414)) # target_size=(166,207))\n",
    "\n",
    "\n",
    "plt.imshow(img)"
   ]
  },
  {
   "cell_type": "code",
   "execution_count": 2,
   "metadata": {},
   "outputs": [],
   "source": [
    "class InputStream:\n",
    "    def __init__(self, data):\n",
    "        self.data = data\n",
    "        self.i = 0\n",
    "\n",
    "    def read(self, size):\n",
    "        out = self.data[self.i:self.i + size]\n",
    "        self.i += size\n",
    "        return int(out, 2)"
   ]
  },
  {
   "cell_type": "code",
   "execution_count": 3,
   "metadata": {},
   "outputs": [],
   "source": [
    "def access_bit(data, num):\n",
    "    \"\"\" from bytes array to bits by num position\n",
    "    \"\"\"\n",
    "    base = int(num // 8)\n",
    "    shift = 7 - int(num % 8)\n",
    "    return (data[base] & (1 << shift)) >> shift\n",
    "\n",
    "def bytes2bit(data):\n",
    "    \"\"\" get bit string from bytes data\n",
    "    \"\"\"\n",
    "    return ''.join([str(access_bit(data, i)) for i in range(len(data) * 8)])"
   ]
  },
  {
   "cell_type": "code",
   "execution_count": 4,
   "metadata": {},
   "outputs": [],
   "source": [
    "def decode_rle(rle, original_height, original_width, print_params: bool = False):\n",
    "    \"\"\" from LS RLE to numpy uint8 3d image [width, height, channel]\n",
    "    \n",
    "    Args:\n",
    "        print_params (bool, optional): If true, a RLE parameters print statement is suppressed\n",
    "    \"\"\"\n",
    "    input = InputStream(bytes2bit(rle))\n",
    "    num = input.read(32)\n",
    "    word_size = input.read(5) + 1\n",
    "    rle_sizes = [input.read(4) + 1 for _ in range(4)]\n",
    "    \n",
    "    if print_params:\n",
    "        print('RLE params:', num, 'values', word_size, 'word_size', rle_sizes, 'rle_sizes')\n",
    "        \n",
    "    i = 0\n",
    "    out = np.zeros(num, dtype=np.uint8)\n",
    "    while i < num:\n",
    "        x = input.read(1)\n",
    "        j = i + 1 + input.read(rle_sizes[input.read(2)])\n",
    "        if x:\n",
    "            val = input.read(word_size)\n",
    "            out[i:j] = val\n",
    "            i = j\n",
    "        else:\n",
    "            while i < j:\n",
    "                val = input.read(word_size)\n",
    "                out[i] = val\n",
    "                i += 1\n",
    "    out = np.reshape(out, [original_height, original_width, 4])[:,:,3]\n",
    "    out[out>0] = 1\n",
    "    out = np.reshape(out,[original_height, original_width, 1])\n",
    "    return out"
   ]
  },
  {
   "cell_type": "code",
   "execution_count": 5,
   "metadata": {},
   "outputs": [],
   "source": [
    "import os\n",
    "import json"
   ]
  },
  {
   "cell_type": "code",
   "execution_count": 6,
   "metadata": {},
   "outputs": [],
   "source": [
    "file = open('data/train/annotations.json')\n",
    "\n",
    "data = json.load(file)"
   ]
  },
  {
   "cell_type": "code",
   "execution_count": 7,
   "metadata": {},
   "outputs": [],
   "source": [
    "info = []\n",
    "for item in data:\n",
    "    file_name = item['image']\n",
    "    mask = decode_rle(item['tag'][0]['rle'], item['tag'][0]['original_height'], item['tag'][0]['original_width'])\n",
    "    info.append((file_name, mask))"
   ]
  },
  {
   "cell_type": "code",
   "execution_count": 16,
   "metadata": {},
   "outputs": [
    {
     "name": "stdout",
     "output_type": "stream",
     "text": [
      "(32, 256, 256, 1)\n",
      "(256, 256, 3)\n",
      "(528, 297, 1)\n",
      "(256, 256, 1)\n"
     ]
    },
    {
     "ename": "ValueError",
     "evalue": "could not broadcast input array from shape (256,256) into shape (256,256,1)",
     "output_type": "error",
     "traceback": [
      "\u001b[0;31m---------------------------------------------------------------------------\u001b[0m",
      "\u001b[0;31mValueError\u001b[0m                                Traceback (most recent call last)",
      "Cell \u001b[0;32mIn [16], line 13\u001b[0m\n\u001b[1;32m     11\u001b[0m \u001b[39mprint\u001b[39m(data[\u001b[39m1\u001b[39m]\u001b[39m.\u001b[39mshape)\n\u001b[1;32m     12\u001b[0m \u001b[39mprint\u001b[39m(np\u001b[39m.\u001b[39mexpand_dims(cv2\u001b[39m.\u001b[39mresize(data[\u001b[39m1\u001b[39m], image_size),\u001b[39m2\u001b[39m)\u001b[39m.\u001b[39mshape)\n\u001b[0;32m---> 13\u001b[0m y[j] \u001b[39m=\u001b[39m cv2\u001b[39m.\u001b[39mresize(data[\u001b[39m1\u001b[39m], image_size)\n",
      "\u001b[0;31mValueError\u001b[0m: could not broadcast input array from shape (256,256) into shape (256,256,1)"
     ]
    }
   ],
   "source": [
    "batch_size = 32\n",
    "image_size = (256, 256)\n",
    "batch_annotations = info[0 : batch_size]\n",
    "x = np.zeros((batch_size,) + image_size + (3,), dtype=\"float32\")\n",
    "y = np.zeros((batch_size,) + image_size + (1,), dtype=\"uint8\")\n",
    "print(y.shape)\n",
    "for j, data in enumerate(batch_annotations):\n",
    "    img = cv2.resize(cv2.cvtColor(cv2.imread(f'data/images/{data[0]}'), cv2.COLOR_BGR2RGB), image_size)\n",
    "    print(img.shape)\n",
    "    x[j] = img\n",
    "    y[j] = np.expand_dims(cv2.resize(data[1], image_size),2)"
   ]
  },
  {
   "cell_type": "code",
   "execution_count": null,
   "metadata": {},
   "outputs": [],
   "source": [
    "g = 0\n",
    "for a in range(batch_size):\n",
    "    c = np.random.rand()\n",
    "    if(c > 0.5):\n",
    "        g+=1\n",
    "\n",
    "print(batch_size/g)"
   ]
  },
  {
   "cell_type": "code",
   "execution_count": null,
   "metadata": {},
   "outputs": [],
   "source": [
    "print(x.shape)\n",
    "print(y.shape)\n",
    "plt.subplot(121), plt.imshow(x[0])\n",
    "plt.subplot(122), plt.imshow(y[0], cmap='gray')"
   ]
  },
  {
   "cell_type": "code",
   "execution_count": null,
   "metadata": {},
   "outputs": [],
   "source": [
    "def blur(image):\n",
    "    sigmaX = random.random()\n",
    "    image_ = cv2.GaussianBlur(image,(5,5),sigmaX)\n",
    "    return image_\n",
    "\n",
    "def flip(image, mask):\n",
    "    image_ = np.fliplr(image)\n",
    "    mask_ = np.fliplr(mask)\n",
    "    return image_, mask_\n",
    "\n",
    "def rotate(image, mask):\n",
    "    (h, w) = image.shape[:2]\n",
    "    (cX, cY) = (w // 2, h // 2)\n",
    "    \n",
    "    angle = random.randint(1, 25)\n",
    "    M = cv2.getRotationMatrix2D((cX, cY), angle, 1.0)\n",
    "    image_ = cv2.warpAffine(image, M, (w, h))\n",
    "    mask_ =  cv2.warpAffine(mask, M, (w, h))\n",
    "    return image_, mask_"
   ]
  },
  {
   "cell_type": "code",
   "execution_count": null,
   "metadata": {},
   "outputs": [],
   "source": [
    "img_num = 0\n",
    "img_name = info[img_num][0]\n",
    "# img = load_img(f'data/train/images/{img_name}')\n",
    "img = cv2.cvtColor(cv2.imread(f'data/train/images/{img_name}'), cv2.COLOR_BGR2RGB)\n",
    "mask = info[img_num][1]\n",
    "\n",
    "# img, mask = flip(img,mask)\n",
    "# img = blur(img)\n",
    "# img, mask = rotate(img,mask)\n",
    "\n",
    "print(img_name)\n",
    "plt.subplot(121), plt.imshow(img)\n",
    "plt.subplot(122), plt.imshow(mask, cmap='gray')"
   ]
  }
 ],
 "metadata": {
  "kernelspec": {
   "display_name": "Python 3.9.14 ('tf-house-mask')",
   "language": "python",
   "name": "python3"
  },
  "language_info": {
   "codemirror_mode": {
    "name": "ipython",
    "version": 3
   },
   "file_extension": ".py",
   "mimetype": "text/x-python",
   "name": "python",
   "nbconvert_exporter": "python",
   "pygments_lexer": "ipython3",
   "version": "3.9.14"
  },
  "orig_nbformat": 4,
  "vscode": {
   "interpreter": {
    "hash": "6ab619f9820b56b7a14e12a3bb3a4751e74e466f4bb5241b6c59f51388f93740"
   }
  }
 },
 "nbformat": 4,
 "nbformat_minor": 2
}
