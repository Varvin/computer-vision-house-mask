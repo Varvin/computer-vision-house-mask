{
 "cells": [
  {
   "cell_type": "code",
   "execution_count": null,
   "metadata": {},
   "outputs": [],
   "source": [
    "import cv2\n",
    "\n",
    "img1 = cv2.resize(cv2.cvtColor(cv2.imread('data/images/9b30a524-img_00714.jpeg'), cv2.COLOR_BGR2RGB), (256, 256))\n",
    "img1 = img1/255\n",
    "img = np.array([ img1 ])\n",
    "prediction = model.model.predict(img)\n",
    "mask = model.prediction_to_mask(prediction[0])\n",
    "plt.subplot(121), plt.imshow(img1), plt.title('original')\n",
    "plt.subplot(122), plt.imshow(mask, cmap='gray'), plt.title('prediction result')"
   ]
  }
 ],
 "metadata": {
  "kernelspec": {
   "display_name": "tf-house-mask",
   "language": "python",
   "name": "python3"
  },
  "language_info": {
   "name": "python",
   "version": "3.9.14 | packaged by conda-forge | (main, Nov 21 2022, 13:20:59) \n[Clang 14.0.6 ]"
  },
  "orig_nbformat": 4,
  "vscode": {
   "interpreter": {
    "hash": "6ab619f9820b56b7a14e12a3bb3a4751e74e466f4bb5241b6c59f51388f93740"
   }
  }
 },
 "nbformat": 4,
 "nbformat_minor": 2
}
