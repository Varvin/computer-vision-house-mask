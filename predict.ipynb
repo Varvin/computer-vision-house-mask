{
 "cells": [
  {
   "attachments": {},
   "cell_type": "markdown",
   "metadata": {},
   "source": [
    "# Init dependency"
   ]
  },
  {
   "cell_type": "code",
   "execution_count": null,
   "metadata": {},
   "outputs": [],
   "source": [
    "import cv2\n",
    "import numpy as np\n",
    "from model.house_mask import HouseMask\n",
    "from model.config import Config\n",
    "from matplotlib import pyplot as plt\n",
    "plt.rcParams['figure.figsize'] = [15, 10]\n"
   ]
  },
  {
   "attachments": {},
   "cell_type": "markdown",
   "metadata": {},
   "source": [
    "# Load pretrained model"
   ]
  },
  {
   "cell_type": "code",
   "execution_count": null,
   "metadata": {},
   "outputs": [],
   "source": [
    "conf = Config()\n",
    "model = HouseMask(conf, None, None, None)\n",
    "model.load_model('info/unet2_150_nval_softmax.h5')"
   ]
  },
  {
   "attachments": {},
   "cell_type": "markdown",
   "metadata": {},
   "source": [
    "# Evaluate model"
   ]
  },
  {
   "cell_type": "code",
   "execution_count": null,
   "metadata": {},
   "outputs": [],
   "source": [
    "img1 = cv2.resize(cv2.cvtColor(cv2.imread('data/test/images/eb7c9f4e6d3cd775d7f6d17e12d854c1.jpg'), cv2.COLOR_BGR2RGB), (256, 256))\n",
    "img1 = img1/255\n",
    "img = np.array([ img1 ])\n",
    "prediction = model.predict(img)\n",
    "mask = model.prediction_to_mask(prediction[0])\n",
    "plt.subplot(121), plt.imshow(img1), plt.title('original')\n",
    "plt.subplot(122), plt.imshow(mask, cmap='gray'), plt.title('prediction result')"
   ]
  }
 ],
 "metadata": {
  "kernelspec": {
   "display_name": "tf-house-mask",
   "language": "python",
   "name": "python3"
  },
  "language_info": {
   "codemirror_mode": {
    "name": "ipython",
    "version": 3
   },
   "file_extension": ".py",
   "mimetype": "text/x-python",
   "name": "python",
   "nbconvert_exporter": "python",
   "pygments_lexer": "ipython3",
   "version": "3.9.14 | packaged by conda-forge | (main, Nov 21 2022, 13:20:59) \n[Clang 14.0.6 ]"
  },
  "orig_nbformat": 4,
  "vscode": {
   "interpreter": {
    "hash": "6ab619f9820b56b7a14e12a3bb3a4751e74e466f4bb5241b6c59f51388f93740"
   }
  }
 },
 "nbformat": 4,
 "nbformat_minor": 2
}
